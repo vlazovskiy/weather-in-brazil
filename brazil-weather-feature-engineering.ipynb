{
 "cells": [
  {
   "cell_type": "code",
   "execution_count": null,
   "metadata": {
    "collapsed": true
   },
   "outputs": [],
   "source": [
    "# Instead of doing one-hot encoding for hours of the day, let's do harmonic decomposition.\n",
    "# To this end, we will write a function which breaks a value into it's sine and cosine components.\n",
    "# We can do this because hours of the day are periodic. These new features will preserve cyclicity.\n",
    "\n",
    "def harmonic_decomposition(df_series, period):\n",
    "    \n",
    "    return np.sin(2 * np.pi * df_series / period), np.cos(2 * np.pi * df_series / period)\n",
    "\n",
    "df['hr_sin'], df['hr_cos'] = periodic_breakdown(df.hr, 24)"
   ]
  }
 ],
 "metadata": {
  "kernelspec": {
   "display_name": "Python 3",
   "language": "python",
   "name": "python3"
  },
  "language_info": {
   "codemirror_mode": {
    "name": "ipython",
    "version": 3
   },
   "file_extension": ".py",
   "mimetype": "text/x-python",
   "name": "python",
   "nbconvert_exporter": "python",
   "pygments_lexer": "ipython3",
   "version": "3.6.4"
  }
 },
 "nbformat": 4,
 "nbformat_minor": 2
}
