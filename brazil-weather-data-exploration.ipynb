{
 "cells": [
  {
   "cell_type": "code",
   "execution_count": 40,
   "metadata": {
    "collapsed": true
   },
   "outputs": [],
   "source": [
    "import pandas as pd\n",
    "import numpy as np\n",
    "\n",
    "import matplotlib.pyplot as plt\n",
    "%matplotlib inline\n",
    "\n",
    "pd.options.display.max_columns = 999"
   ]
  },
  {
   "cell_type": "markdown",
   "metadata": {},
   "source": [
    "# Import Data"
   ]
  },
  {
   "cell_type": "code",
   "execution_count": 41,
   "metadata": {
    "collapsed": true
   },
   "outputs": [],
   "source": [
    "df = pd.read_csv(\"sudeste.csv\")"
   ]
  },
  {
   "cell_type": "code",
   "execution_count": 48,
   "metadata": {},
   "outputs": [
    {
     "data": {
      "text/html": [
       "<div>\n",
       "<style scoped>\n",
       "    .dataframe tbody tr th:only-of-type {\n",
       "        vertical-align: middle;\n",
       "    }\n",
       "\n",
       "    .dataframe tbody tr th {\n",
       "        vertical-align: top;\n",
       "    }\n",
       "\n",
       "    .dataframe thead th {\n",
       "        text-align: right;\n",
       "    }\n",
       "</style>\n",
       "<table border=\"1\" class=\"dataframe\">\n",
       "  <thead>\n",
       "    <tr style=\"text-align: right;\">\n",
       "      <th></th>\n",
       "      <th>wsid</th>\n",
       "      <th>wsnm</th>\n",
       "      <th>elvt</th>\n",
       "      <th>lat</th>\n",
       "      <th>lon</th>\n",
       "      <th>inme</th>\n",
       "      <th>city</th>\n",
       "      <th>prov</th>\n",
       "      <th>mdct</th>\n",
       "      <th>date</th>\n",
       "      <th>yr</th>\n",
       "      <th>mo</th>\n",
       "      <th>da</th>\n",
       "      <th>hr</th>\n",
       "      <th>prcp</th>\n",
       "      <th>stp</th>\n",
       "      <th>smax</th>\n",
       "      <th>smin</th>\n",
       "      <th>gbrd</th>\n",
       "      <th>temp</th>\n",
       "      <th>dewp</th>\n",
       "      <th>tmax</th>\n",
       "      <th>dmax</th>\n",
       "      <th>tmin</th>\n",
       "      <th>dmin</th>\n",
       "      <th>hmdy</th>\n",
       "      <th>hmax</th>\n",
       "      <th>hmin</th>\n",
       "      <th>wdsp</th>\n",
       "      <th>wdct</th>\n",
       "      <th>gust</th>\n",
       "    </tr>\n",
       "  </thead>\n",
       "  <tbody>\n",
       "    <tr>\n",
       "      <th>0</th>\n",
       "      <td>178</td>\n",
       "      <td>SÃO GONÇALO</td>\n",
       "      <td>237.0</td>\n",
       "      <td>-6.835777</td>\n",
       "      <td>-38.311583</td>\n",
       "      <td>A333</td>\n",
       "      <td>São Gonçalo</td>\n",
       "      <td>RJ</td>\n",
       "      <td>2007-11-06 00:00:00</td>\n",
       "      <td>2007-11-06</td>\n",
       "      <td>2007</td>\n",
       "      <td>11</td>\n",
       "      <td>6</td>\n",
       "      <td>0</td>\n",
       "      <td>NaN</td>\n",
       "      <td>982.5</td>\n",
       "      <td>982.5</td>\n",
       "      <td>981.3</td>\n",
       "      <td>NaN</td>\n",
       "      <td>29.3</td>\n",
       "      <td>12.1</td>\n",
       "      <td>29.7</td>\n",
       "      <td>16.8</td>\n",
       "      <td>25.5</td>\n",
       "      <td>10.8</td>\n",
       "      <td>35.0</td>\n",
       "      <td>58.0</td>\n",
       "      <td>32.0</td>\n",
       "      <td>3.2</td>\n",
       "      <td>101.0</td>\n",
       "      <td>6.5</td>\n",
       "    </tr>\n",
       "    <tr>\n",
       "      <th>1</th>\n",
       "      <td>178</td>\n",
       "      <td>SÃO GONÇALO</td>\n",
       "      <td>237.0</td>\n",
       "      <td>-6.835777</td>\n",
       "      <td>-38.311583</td>\n",
       "      <td>A333</td>\n",
       "      <td>São Gonçalo</td>\n",
       "      <td>RJ</td>\n",
       "      <td>2007-11-06 01:00:00</td>\n",
       "      <td>2007-11-06</td>\n",
       "      <td>2007</td>\n",
       "      <td>11</td>\n",
       "      <td>6</td>\n",
       "      <td>1</td>\n",
       "      <td>NaN</td>\n",
       "      <td>983.2</td>\n",
       "      <td>983.2</td>\n",
       "      <td>982.5</td>\n",
       "      <td>NaN</td>\n",
       "      <td>29.0</td>\n",
       "      <td>13.5</td>\n",
       "      <td>29.9</td>\n",
       "      <td>13.6</td>\n",
       "      <td>29.0</td>\n",
       "      <td>12.2</td>\n",
       "      <td>39.0</td>\n",
       "      <td>39.0</td>\n",
       "      <td>35.0</td>\n",
       "      <td>3.6</td>\n",
       "      <td>94.0</td>\n",
       "      <td>6.4</td>\n",
       "    </tr>\n",
       "    <tr>\n",
       "      <th>2</th>\n",
       "      <td>178</td>\n",
       "      <td>SÃO GONÇALO</td>\n",
       "      <td>237.0</td>\n",
       "      <td>-6.835777</td>\n",
       "      <td>-38.311583</td>\n",
       "      <td>A333</td>\n",
       "      <td>São Gonçalo</td>\n",
       "      <td>RJ</td>\n",
       "      <td>2007-11-06 02:00:00</td>\n",
       "      <td>2007-11-06</td>\n",
       "      <td>2007</td>\n",
       "      <td>11</td>\n",
       "      <td>6</td>\n",
       "      <td>2</td>\n",
       "      <td>NaN</td>\n",
       "      <td>983.5</td>\n",
       "      <td>983.5</td>\n",
       "      <td>983.2</td>\n",
       "      <td>NaN</td>\n",
       "      <td>27.4</td>\n",
       "      <td>14.0</td>\n",
       "      <td>29.0</td>\n",
       "      <td>14.0</td>\n",
       "      <td>27.4</td>\n",
       "      <td>13.6</td>\n",
       "      <td>44.0</td>\n",
       "      <td>44.0</td>\n",
       "      <td>39.0</td>\n",
       "      <td>2.5</td>\n",
       "      <td>93.0</td>\n",
       "      <td>6.9</td>\n",
       "    </tr>\n",
       "    <tr>\n",
       "      <th>3</th>\n",
       "      <td>178</td>\n",
       "      <td>SÃO GONÇALO</td>\n",
       "      <td>237.0</td>\n",
       "      <td>-6.835777</td>\n",
       "      <td>-38.311583</td>\n",
       "      <td>A333</td>\n",
       "      <td>São Gonçalo</td>\n",
       "      <td>RJ</td>\n",
       "      <td>2007-11-06 03:00:00</td>\n",
       "      <td>2007-11-06</td>\n",
       "      <td>2007</td>\n",
       "      <td>11</td>\n",
       "      <td>6</td>\n",
       "      <td>3</td>\n",
       "      <td>NaN</td>\n",
       "      <td>983.7</td>\n",
       "      <td>983.7</td>\n",
       "      <td>983.4</td>\n",
       "      <td>NaN</td>\n",
       "      <td>25.8</td>\n",
       "      <td>16.9</td>\n",
       "      <td>27.4</td>\n",
       "      <td>16.9</td>\n",
       "      <td>25.8</td>\n",
       "      <td>14.1</td>\n",
       "      <td>58.0</td>\n",
       "      <td>58.0</td>\n",
       "      <td>44.0</td>\n",
       "      <td>1.7</td>\n",
       "      <td>96.0</td>\n",
       "      <td>5.8</td>\n",
       "    </tr>\n",
       "    <tr>\n",
       "      <th>4</th>\n",
       "      <td>178</td>\n",
       "      <td>SÃO GONÇALO</td>\n",
       "      <td>237.0</td>\n",
       "      <td>-6.835777</td>\n",
       "      <td>-38.311583</td>\n",
       "      <td>A333</td>\n",
       "      <td>São Gonçalo</td>\n",
       "      <td>RJ</td>\n",
       "      <td>2007-11-06 04:00:00</td>\n",
       "      <td>2007-11-06</td>\n",
       "      <td>2007</td>\n",
       "      <td>11</td>\n",
       "      <td>6</td>\n",
       "      <td>4</td>\n",
       "      <td>NaN</td>\n",
       "      <td>983.7</td>\n",
       "      <td>983.8</td>\n",
       "      <td>983.6</td>\n",
       "      <td>NaN</td>\n",
       "      <td>25.4</td>\n",
       "      <td>16.4</td>\n",
       "      <td>26.3</td>\n",
       "      <td>17.0</td>\n",
       "      <td>25.3</td>\n",
       "      <td>16.4</td>\n",
       "      <td>57.0</td>\n",
       "      <td>58.0</td>\n",
       "      <td>56.0</td>\n",
       "      <td>3.1</td>\n",
       "      <td>110.0</td>\n",
       "      <td>7.5</td>\n",
       "    </tr>\n",
       "  </tbody>\n",
       "</table>\n",
       "</div>"
      ],
      "text/plain": [
       "   wsid         wsnm   elvt       lat        lon  inme         city prov  \\\n",
       "0   178  SÃO GONÇALO  237.0 -6.835777 -38.311583  A333  São Gonçalo   RJ   \n",
       "1   178  SÃO GONÇALO  237.0 -6.835777 -38.311583  A333  São Gonçalo   RJ   \n",
       "2   178  SÃO GONÇALO  237.0 -6.835777 -38.311583  A333  São Gonçalo   RJ   \n",
       "3   178  SÃO GONÇALO  237.0 -6.835777 -38.311583  A333  São Gonçalo   RJ   \n",
       "4   178  SÃO GONÇALO  237.0 -6.835777 -38.311583  A333  São Gonçalo   RJ   \n",
       "\n",
       "                  mdct        date    yr  mo  da  hr  prcp    stp   smax  \\\n",
       "0  2007-11-06 00:00:00  2007-11-06  2007  11   6   0   NaN  982.5  982.5   \n",
       "1  2007-11-06 01:00:00  2007-11-06  2007  11   6   1   NaN  983.2  983.2   \n",
       "2  2007-11-06 02:00:00  2007-11-06  2007  11   6   2   NaN  983.5  983.5   \n",
       "3  2007-11-06 03:00:00  2007-11-06  2007  11   6   3   NaN  983.7  983.7   \n",
       "4  2007-11-06 04:00:00  2007-11-06  2007  11   6   4   NaN  983.7  983.8   \n",
       "\n",
       "    smin  gbrd  temp  dewp  tmax  dmax  tmin  dmin  hmdy  hmax  hmin  wdsp  \\\n",
       "0  981.3   NaN  29.3  12.1  29.7  16.8  25.5  10.8  35.0  58.0  32.0   3.2   \n",
       "1  982.5   NaN  29.0  13.5  29.9  13.6  29.0  12.2  39.0  39.0  35.0   3.6   \n",
       "2  983.2   NaN  27.4  14.0  29.0  14.0  27.4  13.6  44.0  44.0  39.0   2.5   \n",
       "3  983.4   NaN  25.8  16.9  27.4  16.9  25.8  14.1  58.0  58.0  44.0   1.7   \n",
       "4  983.6   NaN  25.4  16.4  26.3  17.0  25.3  16.4  57.0  58.0  56.0   3.1   \n",
       "\n",
       "    wdct  gust  \n",
       "0  101.0   6.5  \n",
       "1   94.0   6.4  \n",
       "2   93.0   6.9  \n",
       "3   96.0   5.8  \n",
       "4  110.0   7.5  "
      ]
     },
     "execution_count": 48,
     "metadata": {},
     "output_type": "execute_result"
    }
   ],
   "source": [
    "df.head()"
   ]
  },
  {
   "cell_type": "markdown",
   "metadata": {},
   "source": [
    "# Table content\n",
    "\n",
    "wsid - Weather station id  \n",
    "wsnm - Name station (usually city location or nickname)  \n",
    "elvt - Elevation  \n",
    "lat - Latitude  \n",
    "lon - Longitude  \n",
    "inme - Station number (INMET number) for the location  \n",
    "city - City  \n",
    "prov - State (Province)  \n",
    "mdct - Observation Datetime (complete date: date + time)  \n",
    "date - Date of observation  \n",
    "yr - The year (2000-2016)  \n",
    "mo - The month (0-12)  \n",
    "da - The day (0-31)  \n",
    "hr - The hour (0-23)  \n",
    "prcp - Amount of precipitation in millimetres (last hour)  \n",
    "stp - Air pressure for the hour in hPa to tenths (instant)  \n",
    "smax - Maximum air pressure for the last hour in hPa to tenths  \n",
    "smin - Minimum air pressure for the last hour in hPa to tenths  \n",
    "gbrd - Solar radiation KJ/m2  \n",
    "temp - Air temperature (instant) in celsius degrees  \n",
    "dewp - Dew point temperature (instant) in celsius degrees  \n",
    "tmax - Maximum temperature for the last hour in celsius degrees  \n",
    "dmax - Maximum dew point temperature for the last hour in celsius degrees  \n",
    "tmin - Minimum temperature for the last hour in celsius degrees  \n",
    "dmin - Minimum dew point temperature for the last hour in celsius degrees  \n",
    "hmdy - Relative humid in % (instant)  \n",
    "hmax - Maximum relative humid temperature for the last hour in %  \n",
    "hmin - Minimum relative humid temperature for the last hour in %  \n",
    "wdsp - Wind speed in metres per second  \n",
    "wdct - Wind direction in radius degrees (0-360)  \n",
    "gust - Wind gust in metres per second"
   ]
  },
  {
   "cell_type": "markdown",
   "metadata": {},
   "source": [
    "# Data Exploration"
   ]
  },
  {
   "cell_type": "code",
   "execution_count": 45,
   "metadata": {},
   "outputs": [
    {
     "data": {
      "text/plain": [
       "MG    4710632\n",
       "SP    2746440\n",
       "RJ    1617624\n",
       "ES     704472\n",
       "Name: prov, dtype: int64"
      ]
     },
     "execution_count": 45,
     "metadata": {},
     "output_type": "execute_result"
    }
   ],
   "source": [
    "# Provinces\n",
    "df.prov.value_counts()"
   ]
  },
  {
   "cell_type": "code",
   "execution_count": 47,
   "metadata": {},
   "outputs": [
    {
     "data": {
      "text/plain": [
       "array(['São Gonçalo', 'Vitória', 'Santa Teresa', 'Linhares',\n",
       "       'Alfredo Chaves', 'São Mateus', 'Alegre', 'Presidente Kennedy',\n",
       "       'Nova Venécia', 'Afonso Cláudio', 'Barbacena', 'Araxá',\n",
       "       'Montes Claros', 'Uberlândia', 'Almenara', 'Camanducaia', 'Viçosa',\n",
       "       'Timóteo', 'Ituiutaba', 'Ouro Branco', 'São João del Rei',\n",
       "       'Varginha', 'Passos', 'Muriaé', 'Juiz de Fora', 'Campina Verde',\n",
       "       'Conceição das Alagoas', 'Belo Horizonte', 'Serra dos Aimorés',\n",
       "       'Patrocínio', 'Formiga', 'Sacramento', 'Montalvânia',\n",
       "       'Teófilo Otoni', 'Três Marias', 'Passa Quatro', 'Caldas',\n",
       "       'Maria da Fé', 'Governador Valadares', 'Guanhães', 'Aimorés',\n",
       "       'Florestal', 'Dores do Indaiá', 'Diamantina', 'Curvelo',\n",
       "       'Porteirinha', 'Mantena', 'Capelinha', 'Unaí', 'Espinosa',\n",
       "       'Buritis', 'Pirapora', 'Guarda-Mor', 'São Romão', 'Chapada Gaúcha',\n",
       "       'Águas Vermelhas', 'Itaobim', 'Rio Pardo de Minas', 'Salinas',\n",
       "       'João Pinheiro', 'Caratinga', 'Ibirité', 'Manhuaçu',\n",
       "       'Coronel Pacheco', 'Januária', 'Pompéu', 'São Sebastião do Paraíso',\n",
       "       'Sete Lagoas', 'Seropédica', 'Rio de Janeiro', 'Duque de Caxias',\n",
       "       'Cambuci', 'Arraial do Cabo', 'Campos dos Goytacazes', 'Macaé',\n",
       "       'Resende', 'Petrópolis', 'Valença', 'Teresópolis', 'Parati',\n",
       "       'Nova Friburgo', 'Três Rios', 'Rio Claro', 'Silva Jardim',\n",
       "       'Saquarema', 'São Paulo', 'Bauru', 'Campos do Jordão',\n",
       "       'Presidente Prudente', 'Franca', 'São Carlos', 'Iguape', 'Sorocaba',\n",
       "       'Itapeva', 'São Miguel Arcanjo', 'Ourinhos', 'Rancharia', 'Avaré',\n",
       "       'Piracicaba', 'Lins', 'Taubaté', 'Votuporanga', 'Jales',\n",
       "       'Valparaíso', 'José Bonifácio', 'Ariranha', 'Ibitinga',\n",
       "       'Casa Branca', 'Itapira', 'São Luís do Paraitinga', 'Barra Bonita',\n",
       "       'Guarujá', 'Barra do Turvo', 'Pradópolis', 'Barretos', 'Ituverava',\n",
       "       'Barueri'], dtype=object)"
      ]
     },
     "execution_count": 47,
     "metadata": {},
     "output_type": "execute_result"
    }
   ],
   "source": [
    "# Cities\n",
    "cities = df.city.unique()\n",
    "cities"
   ]
  },
  {
   "cell_type": "code",
   "execution_count": 10,
   "metadata": {},
   "outputs": [
    {
     "data": {
      "text/plain": [
       "array(['A333', 'A612', 'A613', 'A614', 'A615', 'A616', 'A617', 'A622',\n",
       "       'A623', 'A657', 'A502', 'A505', 'A506', 'A507', 'A508', 'A509',\n",
       "       'A510', 'A511', 'A512', 'A513', 'A514', 'A515', 'A516', 'A517',\n",
       "       'A518', 'A519', 'A520', 'A521', 'A522', 'A523', 'A524', 'A525',\n",
       "       'A526', 'A527', 'A528', 'A529', 'A530', 'A531', 'A532', 'A533',\n",
       "       'A534', 'A535', 'A536', 'A537', 'A538', 'A539', 'A540', 'A541',\n",
       "       'A542', 'A543', 'A544', 'A545', 'A546', 'A547', 'A548', 'A549',\n",
       "       'A550', 'A551', 'A552', 'A553', 'A554', 'A555', 'A556', 'A557',\n",
       "       'A559', 'A560', 'A561', 'A569', 'F501', 'A601', 'A602', 'A603',\n",
       "       'A604', 'A606', 'A620', 'A608', 'A609', 'A610', 'A611', 'A618',\n",
       "       'A619', 'A621', 'A624', 'A625', 'A903', 'A652', 'A636', 'A659',\n",
       "       'A667', 'A701', 'A705', 'A706', 'A707', 'A708', 'A711', 'A712',\n",
       "       'A713', 'A714', 'A715', 'A716', 'A718', 'A725', 'A726', 'A727',\n",
       "       'A728', 'A729', 'A733', 'A734', 'A735', 'A736', 'A737', 'A738',\n",
       "       'A739', 'A740', 'A741', 'ZZZ3', 'A746', 'A747', 'A748', 'A753',\n",
       "       'A755'], dtype=object)"
      ]
     },
     "execution_count": 10,
     "metadata": {},
     "output_type": "execute_result"
    }
   ],
   "source": [
    "# Station numbers\n",
    "station_number = df.inme.unique()\n",
    "station_number"
   ]
  },
  {
   "cell_type": "code",
   "execution_count": 9,
   "metadata": {},
   "outputs": [
    {
     "data": {
      "text/plain": [
       "array([178, 303, 304, 305, 306, 307, 308, 309, 310, 311, 312, 313, 314,\n",
       "       315, 316, 317, 318, 319, 320, 321, 322, 323, 324, 325, 326, 327,\n",
       "       328, 329, 330, 331, 332, 333, 334, 335, 336, 337, 338, 339, 340,\n",
       "       341, 342, 343, 344, 345, 346, 347, 348, 349, 350, 351, 352, 353,\n",
       "       354, 355, 356, 357, 358, 359, 360, 361, 362, 363, 364, 365, 366,\n",
       "       367, 368, 369, 370, 371, 372, 373, 374, 375, 376, 377, 378, 379,\n",
       "       380, 381, 382, 383, 384, 385, 386, 387, 388, 389, 390, 391, 392,\n",
       "       393, 394, 395, 396, 397, 398, 399, 400, 401, 402, 403, 404, 405,\n",
       "       406, 407, 408, 409, 410, 411, 412, 413, 414, 415, 416, 417, 418,\n",
       "       419, 420, 421, 422, 423])"
      ]
     },
     "execution_count": 9,
     "metadata": {},
     "output_type": "execute_result"
    }
   ],
   "source": [
    "# Station ID's\n",
    "weather_stations = df.wsid.unique()\n",
    "weather_stations.sort()\n",
    "weather_stations"
   ]
  },
  {
   "cell_type": "markdown",
   "metadata": {},
   "source": [
    "**Provinces, cities, and station names are not really very important in this case, since we have the exact geographic coordinates for each weather station, which are given numerically, can be transformed without increasing feature space too much, and are more useful for regression.**"
   ]
  },
  {
   "cell_type": "code",
   "execution_count": 49,
   "metadata": {},
   "outputs": [
    {
     "data": {
      "text/plain": [
       "0     2007-11-06 00:00:00\n",
       "1     2007-11-06 01:00:00\n",
       "2     2007-11-06 02:00:00\n",
       "3     2007-11-06 03:00:00\n",
       "4     2007-11-06 04:00:00\n",
       "5     2007-11-06 05:00:00\n",
       "6     2007-11-06 06:00:00\n",
       "7     2007-11-06 07:00:00\n",
       "8     2007-11-06 08:00:00\n",
       "9     2007-11-06 09:00:00\n",
       "10    2007-11-06 10:00:00\n",
       "11    2007-11-06 11:00:00\n",
       "12    2007-11-06 12:00:00\n",
       "13    2007-11-06 13:00:00\n",
       "14    2007-11-06 14:00:00\n",
       "15    2007-11-06 15:00:00\n",
       "16    2007-11-06 16:00:00\n",
       "17    2007-11-06 17:00:00\n",
       "18    2007-11-06 18:00:00\n",
       "19    2007-11-06 19:00:00\n",
       "Name: mdct, dtype: object"
      ]
     },
     "execution_count": 49,
     "metadata": {},
     "output_type": "execute_result"
    }
   ],
   "source": [
    "# Look at timestamps\n",
    "df.mdct.head(20) "
   ]
  },
  {
   "cell_type": "markdown",
   "metadata": {},
   "source": [
    "**Looks like timestamps are given in date and hour format, from which we can extract values like month, day of the week, and hour of the day, which would be useful features for prediction.**"
   ]
  },
  {
   "cell_type": "code",
   "execution_count": 50,
   "metadata": {
    "collapsed": true
   },
   "outputs": [],
   "source": [
    "# To look at value distribution, I am going to create a plotting function. Since plotting for very large datasets\n",
    "# is not supported, I will be sampling the dataset.\n",
    "\n",
    "def plot_histogram(dataframe, column, name, number_of_bins, sample_size = 1000, input_random_state = 42):\n",
    "    \n",
    "    df_sample = dataframe.sample(n = sample_size, random_state = input_random_state)\n",
    "    df_sample[column].hist(bins = number_of_bins)\n",
    "    plt.xlabel(name)\n",
    "    plt.ylabel('Count')"
   ]
  },
  {
   "cell_type": "code",
   "execution_count": 51,
   "metadata": {},
   "outputs": [
    {
     "data": {
      "text/plain": [
       "array([2000, 2001, 2002, 2003, 2004, 2005, 2006, 2007, 2008, 2009, 2010,\n",
       "       2011, 2012, 2013, 2014, 2015, 2016])"
      ]
     },
     "execution_count": 51,
     "metadata": {},
     "output_type": "execute_result"
    }
   ],
   "source": [
    "years = df.yr.unique()\n",
    "years.sort()\n",
    "years"
   ]
  },
  {
   "cell_type": "code",
   "execution_count": 52,
   "metadata": {},
   "outputs": [
    {
     "data": {
      "image/png": "[encoded data removed]",
      "text/plain": [
       "<matplotlib.figure.Figure at 0x107e59208>"
      ]
     },
     "metadata": {},
     "output_type": "display_data"
    }
   ],
   "source": [
    "plot_histogram(df, 'yr', 'Year', 17, 2000)"
   ]
  },
  {
   "cell_type": "markdown",
   "metadata": {},
   "source": [
    "**Clearly, most observations come from 2008-2016.**"
   ]
  },
  {
   "cell_type": "code",
   "execution_count": 53,
   "metadata": {},
   "outputs": [
    {
     "data": {
      "text/plain": [
       "count    1.407984e+06\n",
       "mean     9.366544e-01\n",
       "std      2.923291e+00\n",
       "min      0.000000e+00\n",
       "25%      0.000000e+00\n",
       "50%      0.000000e+00\n",
       "75%      6.000000e-01\n",
       "max      1.000000e+02\n",
       "Name: prcp, dtype: float64"
      ]
     },
     "execution_count": 53,
     "metadata": {},
     "output_type": "execute_result"
    }
   ],
   "source": [
    "df.prcp.describe()"
   ]
  },
  {
   "cell_type": "code",
   "execution_count": 56,
   "metadata": {},
   "outputs": [
    {
     "data": {
      "image/png": "[encoded data removed]",
      "text/plain": [
       "<matplotlib.figure.Figure at 0x12b6636a0>"
      ]
     },
     "metadata": {},
     "output_type": "display_data"
    }
   ],
   "source": [
    "plot_histogram(df, 'prcp', 'Precipitation', 100, 2000)"
   ]
  },
  {
   "cell_type": "markdown",
   "metadata": {},
   "source": [
    "**A lot of 0 precipitation, let's check values.**"
   ]
  },
  {
   "cell_type": "code",
   "execution_count": 58,
   "metadata": {},
   "outputs": [
    {
     "data": {
      "text/plain": [
       "[nan,\n",
       " 0.0,\n",
       " 0.20000000000000001,\n",
       " 0.40000000000000002,\n",
       " 0.59999999999999998,\n",
       " 0.80000000000000004,\n",
       " 1.0,\n",
       " 1.2,\n",
       " 1.3999999999999999,\n",
       " 1.6000000000000001,\n",
       " 1.8,\n",
       " 2.0,\n",
       " 2.2000000000000002,\n",
       " 2.3999999999999999,\n",
       " 2.6000000000000001,\n",
       " 2.7999999999999998,\n",
       " 3.0,\n",
       " 3.2000000000000002,\n",
       " 3.3999999999999999,\n",
       " 3.6000000000000001,\n",
       " 3.7999999999999998,\n",
       " 4.0,\n",
       " 4.2000000000000002,\n",
       " 4.4000000000000004,\n",
       " 4.5999999999999996,\n",
       " 4.7999999999999998,\n",
       " 5.0,\n",
       " 5.2000000000000002,\n",
       " 5.4000000000000004,\n",
       " 5.5999999999999996,\n",
       " 5.7999999999999998,\n",
       " 6.0,\n",
       " 6.2000000000000002,\n",
       " 6.4000000000000004,\n",
       " 6.5999999999999996,\n",
       " 6.7999999999999998,\n",
       " 7.0,\n",
       " 7.2000000000000002,\n",
       " 7.4000000000000004,\n",
       " 7.5999999999999996,\n",
       " 7.7999999999999998,\n",
       " 8.0,\n",
       " 8.1999999999999993,\n",
       " 8.4000000000000004,\n",
       " 8.5999999999999996,\n",
       " 8.8000000000000007,\n",
       " 9.0,\n",
       " 9.1999999999999993,\n",
       " 9.4000000000000004,\n",
       " 9.5999999999999996,\n",
       " 9.8000000000000007,\n",
       " 10.0,\n",
       " 10.199999999999999,\n",
       " 10.4,\n",
       " 10.6,\n",
       " 10.800000000000001,\n",
       " 11.0,\n",
       " 11.199999999999999,\n",
       " 11.4,\n",
       " 11.6,\n",
       " 11.800000000000001,\n",
       " 12.0,\n",
       " 12.199999999999999,\n",
       " 12.4,\n",
       " 12.6,\n",
       " 12.800000000000001,\n",
       " 13.0,\n",
       " 13.199999999999999,\n",
       " 13.4,\n",
       " 13.6,\n",
       " 13.800000000000001,\n",
       " 14.0,\n",
       " 14.199999999999999,\n",
       " 14.4,\n",
       " 14.6,\n",
       " 14.800000000000001,\n",
       " 15.0,\n",
       " 15.199999999999999,\n",
       " 15.4,\n",
       " 15.6,\n",
       " 15.800000000000001,\n",
       " 16.0,\n",
       " 16.199999999999999,\n",
       " 16.399999999999999,\n",
       " 16.600000000000001,\n",
       " 16.800000000000001,\n",
       " 17.0,\n",
       " 17.199999999999999,\n",
       " 17.399999999999999,\n",
       " 17.600000000000001,\n",
       " 17.800000000000001,\n",
       " 18.0,\n",
       " 18.199999999999999,\n",
       " 18.399999999999999,\n",
       " 18.600000000000001,\n",
       " 18.800000000000001,\n",
       " 19.0,\n",
       " 19.199999999999999,\n",
       " 19.399999999999999,\n",
       " 19.600000000000001,\n",
       " 19.800000000000001,\n",
       " 20.0,\n",
       " 20.199999999999999,\n",
       " 20.399999999999999,\n",
       " 20.600000000000001,\n",
       " 20.800000000000001,\n",
       " 21.0,\n",
       " 21.199999999999999,\n",
       " 21.399999999999999,\n",
       " 21.600000000000001,\n",
       " 21.800000000000001,\n",
       " 22.0,\n",
       " 22.199999999999999,\n",
       " 22.399999999999999,\n",
       " 22.600000000000001,\n",
       " 22.800000000000001,\n",
       " 23.0,\n",
       " 23.199999999999999,\n",
       " 23.399999999999999,\n",
       " 23.600000000000001,\n",
       " 23.800000000000001,\n",
       " 24.0,\n",
       " 24.199999999999999,\n",
       " 24.399999999999999,\n",
       " 24.600000000000001,\n",
       " 24.800000000000001,\n",
       " 25.0,\n",
       " 25.199999999999999,\n",
       " 25.399999999999999,\n",
       " 25.600000000000001,\n",
       " 25.800000000000001,\n",
       " 26.0,\n",
       " 26.199999999999999,\n",
       " 26.399999999999999,\n",
       " 26.600000000000001,\n",
       " 26.800000000000001,\n",
       " 27.0,\n",
       " 27.199999999999999,\n",
       " 27.399999999999999,\n",
       " 27.600000000000001,\n",
       " 27.800000000000001,\n",
       " 28.0,\n",
       " 28.199999999999999,\n",
       " 28.399999999999999,\n",
       " 28.600000000000001,\n",
       " 28.800000000000001,\n",
       " 29.0,\n",
       " 29.199999999999999,\n",
       " 29.399999999999999,\n",
       " 29.600000000000001,\n",
       " 29.800000000000001,\n",
       " 30.0,\n",
       " 30.199999999999999,\n",
       " 30.399999999999999,\n",
       " 30.600000000000001,\n",
       " 30.800000000000001,\n",
       " 31.0,\n",
       " 31.199999999999999,\n",
       " 31.399999999999999,\n",
       " 31.600000000000001,\n",
       " 31.800000000000001,\n",
       " 32.0,\n",
       " 32.200000000000003,\n",
       " 32.399999999999999,\n",
       " 32.600000000000001,\n",
       " 32.799999999999997,\n",
       " 33.0,\n",
       " 33.200000000000003,\n",
       " 33.399999999999999,\n",
       " 33.600000000000001,\n",
       " 33.799999999999997,\n",
       " 34.0,\n",
       " 34.200000000000003,\n",
       " 34.399999999999999,\n",
       " 34.600000000000001,\n",
       " 34.799999999999997,\n",
       " 35.0,\n",
       " 35.200000000000003,\n",
       " 35.399999999999999,\n",
       " 35.600000000000001,\n",
       " 35.799999999999997,\n",
       " 36.0,\n",
       " 36.200000000000003,\n",
       " 36.399999999999999,\n",
       " 36.600000000000001,\n",
       " 36.799999999999997,\n",
       " 37.0,\n",
       " 37.200000000000003,\n",
       " 37.399999999999999,\n",
       " 37.600000000000001,\n",
       " 37.799999999999997,\n",
       " 38.0,\n",
       " 38.200000000000003,\n",
       " 38.399999999999999,\n",
       " 38.600000000000001,\n",
       " 38.799999999999997,\n",
       " 39.0,\n",
       " 39.200000000000003,\n",
       " 39.399999999999999,\n",
       " 39.600000000000001,\n",
       " 39.799999999999997,\n",
       " 40.0,\n",
       " 40.200000000000003,\n",
       " 40.399999999999999,\n",
       " 40.600000000000001,\n",
       " 40.799999999999997,\n",
       " 41.0,\n",
       " 41.200000000000003,\n",
       " 41.399999999999999,\n",
       " 41.600000000000001,\n",
       " 41.799999999999997,\n",
       " 42.0,\n",
       " 42.200000000000003,\n",
       " 42.399999999999999,\n",
       " 42.600000000000001,\n",
       " 42.799999999999997,\n",
       " 43.0,\n",
       " 43.200000000000003,\n",
       " 43.399999999999999,\n",
       " 43.600000000000001,\n",
       " 43.799999999999997,\n",
       " 44.0,\n",
       " 44.200000000000003,\n",
       " 44.399999999999999,\n",
       " 44.600000000000001,\n",
       " 44.799999999999997,\n",
       " 45.0,\n",
       " 45.200000000000003,\n",
       " 45.399999999999999,\n",
       " 45.600000000000001,\n",
       " 45.799999999999997,\n",
       " 46.0,\n",
       " 46.200000000000003,\n",
       " 46.399999999999999,\n",
       " 46.600000000000001,\n",
       " 46.799999999999997,\n",
       " 47.0,\n",
       " 47.200000000000003,\n",
       " 47.399999999999999,\n",
       " 47.600000000000001,\n",
       " 47.799999999999997,\n",
       " 48.0,\n",
       " 48.200000000000003,\n",
       " 48.399999999999999,\n",
       " 48.600000000000001,\n",
       " 48.799999999999997,\n",
       " 49.0,\n",
       " 49.200000000000003,\n",
       " 49.399999999999999,\n",
       " 49.600000000000001,\n",
       " 49.799999999999997,\n",
       " 50.0,\n",
       " 50.200000000000003,\n",
       " 50.399999999999999,\n",
       " 50.600000000000001,\n",
       " 50.799999999999997,\n",
       " 51.0,\n",
       " 51.200000000000003,\n",
       " 51.399999999999999,\n",
       " 51.600000000000001,\n",
       " 51.799999999999997,\n",
       " 52.0,\n",
       " 52.200000000000003,\n",
       " 52.399999999999999,\n",
       " 52.600000000000001,\n",
       " 52.799999999999997,\n",
       " 53.0,\n",
       " 53.200000000000003,\n",
       " 53.399999999999999,\n",
       " 53.600000000000001,\n",
       " 53.799999999999997,\n",
       " 54.0,\n",
       " 54.200000000000003,\n",
       " 54.399999999999999,\n",
       " 54.600000000000001,\n",
       " 54.799999999999997,\n",
       " 55.0,\n",
       " 55.200000000000003,\n",
       " 55.399999999999999,\n",
       " 55.600000000000001,\n",
       " 55.799999999999997,\n",
       " 56.0,\n",
       " 56.200000000000003,\n",
       " 56.399999999999999,\n",
       " 56.600000000000001,\n",
       " 56.799999999999997,\n",
       " 57.0,\n",
       " 57.200000000000003,\n",
       " 57.399999999999999,\n",
       " 57.600000000000001,\n",
       " 57.799999999999997,\n",
       " 58.0,\n",
       " 58.200000000000003,\n",
       " 58.399999999999999,\n",
       " 58.600000000000001,\n",
       " 58.799999999999997,\n",
       " 59.0,\n",
       " 59.200000000000003,\n",
       " 59.399999999999999,\n",
       " 59.600000000000001,\n",
       " 60.200000000000003,\n",
       " 60.600000000000001,\n",
       " 60.799999999999997,\n",
       " 61.200000000000003,\n",
       " 61.399999999999999,\n",
       " 61.799999999999997,\n",
       " 62.0,\n",
       " 62.200000000000003,\n",
       " 62.399999999999999,\n",
       " 62.799999999999997,\n",
       " 63.0,\n",
       " 63.200000000000003,\n",
       " 63.600000000000001,\n",
       " 64.0,\n",
       " 64.400000000000006,\n",
       " 64.599999999999994,\n",
       " 65.0,\n",
       " 65.200000000000003,\n",
       " 65.599999999999994,\n",
       " 65.799999999999997,\n",
       " 66.200000000000003,\n",
       " 66.400000000000006,\n",
       " 66.599999999999994,\n",
       " 66.799999999999997,\n",
       " 67.0,\n",
       " 67.799999999999997,\n",
       " 68.599999999999994,\n",
       " 68.799999999999997,\n",
       " 69.0,\n",
       " 69.400000000000006,\n",
       " 69.799999999999997,\n",
       " 70.0,\n",
       " 70.200000000000003,\n",
       " 70.400000000000006,\n",
       " 70.599999999999994,\n",
       " 71.200000000000003,\n",
       " 72.400000000000006,\n",
       " 73.400000000000006,\n",
       " 74.200000000000003,\n",
       " 74.799999999999997,\n",
       " 75.200000000000003,\n",
       " 75.799999999999997,\n",
       " 76.200000000000003,\n",
       " 77.0,\n",
       " 77.599999999999994,\n",
       " 77.799999999999997,\n",
       " 78.400000000000006,\n",
       " 79.799999999999997,\n",
       " 81.200000000000003,\n",
       " 85.400000000000006,\n",
       " 89.0,\n",
       " 96.799999999999997,\n",
       " 100.0]"
      ]
     },
     "execution_count": 58,
     "metadata": {},
     "output_type": "execute_result"
    }
   ],
   "source": [
    "precipitation = df.prcp.unique()\n",
    "sorted(precipitation)"
   ]
  },
  {
   "cell_type": "markdown",
   "metadata": {},
   "source": [
    "**Although it looks like 'nan', or missing, values are present in the data set, I will come come back to the investigate this lack of precipitation and consult geographic sources to make sure that 0 precipitation makes sense for most hours.**"
   ]
  },
  {
   "cell_type": "code",
   "execution_count": 61,
   "metadata": {},
   "outputs": [
    {
     "data": {
      "text/plain": [
       "count    9.779168e+06\n",
       "mean     5.940923e+02\n",
       "std      3.980379e+02\n",
       "min      0.000000e+00\n",
       "25%      2.830000e+02\n",
       "50%      5.730000e+02\n",
       "75%      8.750000e+02\n",
       "max      1.758000e+03\n",
       "Name: elvt, dtype: float64"
      ]
     },
     "execution_count": 61,
     "metadata": {},
     "output_type": "execute_result"
    }
   ],
   "source": [
    "# Look at elevation\n",
    "df.elvt.describe()"
   ]
  },
  {
   "cell_type": "code",
   "execution_count": 67,
   "metadata": {},
   "outputs": [
    {
     "data": {
      "text/plain": [
       "35.0"
      ]
     },
     "execution_count": 67,
     "metadata": {},
     "output_type": "execute_result"
    }
   ],
   "source": [
    "1750/50 #let's bin elevation in 50-meter buckets"
   ]
  },
  {
   "cell_type": "code",
   "execution_count": 70,
   "metadata": {},
   "outputs": [
    {
     "data": {
      "image/png": "[encoded data removed]",
      "text/plain": [
       "<matplotlib.figure.Figure at 0x1133e9f28>"
      ]
     },
     "metadata": {},
     "output_type": "display_data"
    }
   ],
   "source": [
    "plot_histogram(df, 'elvt', 'Elevation', 35, 2000)"
   ]
  },
  {
   "cell_type": "code",
   "execution_count": 71,
   "metadata": {},
   "outputs": [
    {
     "data": {
      "text/plain": [
       "count    9.779168e+06\n",
       "mean    -4.464590e+01\n",
       "std      4.882117e+00\n",
       "min     -5.667732e+01\n",
       "25%     -4.743410e+01\n",
       "50%     -4.445378e+01\n",
       "75%     -4.243575e+01\n",
       "max      0.000000e+00\n",
       "Name: lon, dtype: float64"
      ]
     },
     "execution_count": 71,
     "metadata": {},
     "output_type": "execute_result"
    }
   ],
   "source": [
    "df.lon.describe()"
   ]
  },
  {
   "cell_type": "code",
   "execution_count": 72,
   "metadata": {},
   "outputs": [
    {
     "data": {
      "image/png": "[encoded data removed]",
      "text/plain": [
       "<matplotlib.figure.Figure at 0x112712630>"
      ]
     },
     "metadata": {},
     "output_type": "display_data"
    }
   ],
   "source": [
    "plot_histogram(df, 'lon', 'Longitude', 56, 2000)"
   ]
  },
  {
   "cell_type": "markdown",
   "metadata": {},
   "source": [
    "**Longitude in Brazil cannot be 0, so we will have to look closer at these values later on.**"
   ]
  },
  {
   "cell_type": "code",
   "execution_count": 73,
   "metadata": {},
   "outputs": [
    {
     "data": {
      "text/plain": [
       "count    9.779168e+06\n",
       "mean    -2.023082e+01\n",
       "std      3.172643e+00\n",
       "min     -2.496282e+01\n",
       "25%     -2.239580e+01\n",
       "50%     -2.075041e+01\n",
       "75%     -1.891707e+01\n",
       "max      0.000000e+00\n",
       "Name: lat, dtype: float64"
      ]
     },
     "execution_count": 73,
     "metadata": {},
     "output_type": "execute_result"
    }
   ],
   "source": [
    "df.lat.describe()"
   ]
  },
  {
   "cell_type": "code",
   "execution_count": 74,
   "metadata": {},
   "outputs": [
    {
     "data": {
      "image/png": "[encoded data removed]",
      "text/plain": [
       "<matplotlib.figure.Figure at 0x1133bc860>"
      ]
     },
     "metadata": {},
     "output_type": "display_data"
    }
   ],
   "source": [
    "plot_histogram(df, 'lat', 'Latitude', 25, 2000)"
   ]
  },
  {
   "cell_type": "markdown",
   "metadata": {},
   "source": [
    "**The values for latitude fall under the normal latitude range for Brazil, but we will want to check this sample and examine the outlier values and make sure they correspond to the city/province geographic locations.**"
   ]
  },
  {
   "cell_type": "code",
   "execution_count": 75,
   "metadata": {},
   "outputs": [
    {
     "data": {
      "text/plain": [
       "count    9.779168e+06\n",
       "mean     8.804292e+02\n",
       "std      2.482650e+02\n",
       "min      0.000000e+00\n",
       "25%      9.113000e+02\n",
       "50%      9.442000e+02\n",
       "75%      9.731000e+02\n",
       "max      1.050000e+03\n",
       "Name: stp, dtype: float64"
      ]
     },
     "execution_count": 75,
     "metadata": {},
     "output_type": "execute_result"
    }
   ],
   "source": [
    "df.stp.describe()"
   ]
  },
  {
   "cell_type": "code",
   "execution_count": 77,
   "metadata": {},
   "outputs": [
    {
     "data": {
      "text/plain": [
       "21.0"
      ]
     },
     "execution_count": 77,
     "metadata": {},
     "output_type": "execute_result"
    }
   ],
   "source": [
    "1050 / 50 #for binning"
   ]
  },
  {
   "cell_type": "code",
   "execution_count": 78,
   "metadata": {},
   "outputs": [
    {
     "data": {
      "image/png": "[encoded data removed]",
      "text/plain": [
       "<matplotlib.figure.Figure at 0x112f68198>"
      ]
     },
     "metadata": {},
     "output_type": "display_data"
    }
   ],
   "source": [
    "plot_histogram(df, 'stp', 'Air Pressure', 21, 2000)"
   ]
  },
  {
   "cell_type": "markdown",
   "metadata": {},
   "source": [
    "**Air pressure can't be zero, so we will investigate these values.**"
   ]
  },
  {
   "cell_type": "code",
   "execution_count": 79,
   "metadata": {},
   "outputs": [
    {
     "data": {
      "text/plain": [
       "count    5.670348e+06\n",
       "mean     1.176371e+03\n",
       "std      1.138754e+03\n",
       "min      0.000000e+00\n",
       "25%      6.500000e+01\n",
       "50%      8.634270e+02\n",
       "75%      2.103000e+03\n",
       "max      1.158649e+04\n",
       "Name: gbrd, dtype: float64"
      ]
     },
     "execution_count": 79,
     "metadata": {},
     "output_type": "execute_result"
    }
   ],
   "source": [
    "df.gbrd.describe()"
   ]
  },
  {
   "cell_type": "code",
   "execution_count": 80,
   "metadata": {},
   "outputs": [
    {
     "data": {
      "text/plain": [
       "23.0"
      ]
     },
     "execution_count": 80,
     "metadata": {},
     "output_type": "execute_result"
    }
   ],
   "source": [
    "1150 / 50 #binning"
   ]
  },
  {
   "cell_type": "code",
   "execution_count": 81,
   "metadata": {},
   "outputs": [
    {
     "data": {
      "image/png": "[encoded data removed]",
      "text/plain": [
       "<matplotlib.figure.Figure at 0x1127170f0>"
      ]
     },
     "metadata": {},
     "output_type": "display_data"
    }
   ],
   "source": [
    "plot_histogram(df, 'gbrd', 'Solar Radiation', 23, 2000)"
   ]
  },
  {
   "cell_type": "code",
   "execution_count": 82,
   "metadata": {},
   "outputs": [
    {
     "data": {
      "text/plain": [
       "count    9.778693e+06\n",
       "mean     1.472681e+01\n",
       "std      5.805413e+00\n",
       "min     -1.000000e+01\n",
       "25%      1.210000e+01\n",
       "50%      1.610000e+01\n",
       "75%      1.890000e+01\n",
       "max      4.270000e+01\n",
       "Name: dewp, dtype: float64"
      ]
     },
     "execution_count": 82,
     "metadata": {},
     "output_type": "execute_result"
    }
   ],
   "source": [
    "df.dewp.describe()"
   ]
  },
  {
   "cell_type": "code",
   "execution_count": 83,
   "metadata": {},
   "outputs": [
    {
     "data": {
      "text/plain": [
       "44"
      ]
     },
     "execution_count": 83,
     "metadata": {},
     "output_type": "execute_result"
    }
   ],
   "source": [
    "43 - (-1) #bin range"
   ]
  },
  {
   "cell_type": "code",
   "execution_count": 87,
   "metadata": {},
   "outputs": [
    {
     "data": {
      "image/png": "[encoded data removed]",
      "text/plain": [
       "<matplotlib.figure.Figure at 0x107e59e48>"
      ]
     },
     "metadata": {},
     "output_type": "display_data"
    }
   ],
   "source": [
    "plot_histogram(df, 'dewp', 'Dew Point', 44, 2000)"
   ]
  },
  {
   "cell_type": "code",
   "execution_count": 88,
   "metadata": {},
   "outputs": [
    {
     "data": {
      "text/plain": [
       "count    9.779168e+06\n",
       "mean     6.726667e+01\n",
       "std      2.654213e+01\n",
       "min      0.000000e+00\n",
       "25%      5.300000e+01\n",
       "50%      7.400000e+01\n",
       "75%      8.900000e+01\n",
       "max      1.000000e+02\n",
       "Name: hmdy, dtype: float64"
      ]
     },
     "execution_count": 88,
     "metadata": {},
     "output_type": "execute_result"
    }
   ],
   "source": [
    "df.hmdy.describe()"
   ]
  },
  {
   "cell_type": "code",
   "execution_count": 89,
   "metadata": {},
   "outputs": [
    {
     "data": {
      "image/png": "[encoded data removed]",
      "text/plain": [
       "<matplotlib.figure.Figure at 0x112fb8f98>"
      ]
     },
     "metadata": {},
     "output_type": "display_data"
    }
   ],
   "source": [
    "plot_histogram(df, 'hmdy', 'Humidity', 100, 2000)"
   ]
  },
  {
   "cell_type": "code",
   "execution_count": 90,
   "metadata": {},
   "outputs": [
    {
     "data": {
      "text/plain": [
       "count    8.853607e+06\n",
       "mean     1.998156e+00\n",
       "std      1.618531e+00\n",
       "min      0.000000e+00\n",
       "25%      8.000000e-01\n",
       "50%      1.700000e+00\n",
       "75%      2.900000e+00\n",
       "max      1.980000e+01\n",
       "Name: wdsp, dtype: float64"
      ]
     },
     "execution_count": 90,
     "metadata": {},
     "output_type": "execute_result"
    }
   ],
   "source": [
    "df.wdsp.describe()"
   ]
  },
  {
   "cell_type": "code",
   "execution_count": 94,
   "metadata": {},
   "outputs": [
    {
     "data": {
      "image/png": "[encoded data removed]",
      "text/plain": [
       "<matplotlib.figure.Figure at 0x1126fe160>"
      ]
     },
     "metadata": {},
     "output_type": "display_data"
    }
   ],
   "source": [
    "plot_histogram(df, 'wdsp', 'Wind Speed', 20, 2000)"
   ]
  },
  {
   "cell_type": "code",
   "execution_count": 95,
   "metadata": {},
   "outputs": [
    {
     "data": {
      "text/plain": [
       "count    9.462694e+06\n",
       "mean     4.494015e+00\n",
       "std      2.981790e+00\n",
       "min      0.000000e+00\n",
       "25%      2.300000e+00\n",
       "50%      4.200000e+00\n",
       "75%      6.300000e+00\n",
       "max      5.000000e+01\n",
       "Name: gust, dtype: float64"
      ]
     },
     "execution_count": 95,
     "metadata": {},
     "output_type": "execute_result"
    }
   ],
   "source": [
    "df.gust.describe()"
   ]
  },
  {
   "cell_type": "code",
   "execution_count": 98,
   "metadata": {},
   "outputs": [
    {
     "data": {
      "image/png": "[encoded data removed]",
      "text/plain": [
       "<matplotlib.figure.Figure at 0x1119becf8>"
      ]
     },
     "metadata": {},
     "output_type": "display_data"
    }
   ],
   "source": [
    "plot_histogram(df, 'gust', 'Gust', 50, 2000)"
   ]
  },
  {
   "cell_type": "code",
   "execution_count": 99,
   "metadata": {},
   "outputs": [
    {
     "data": {
      "text/plain": [
       "count    9.779168e+06\n",
       "mean     1.385991e+02\n",
       "std      1.052018e+02\n",
       "min      0.000000e+00\n",
       "25%      5.600000e+01\n",
       "50%      1.140000e+02\n",
       "75%      2.160000e+02\n",
       "max      3.600000e+02\n",
       "Name: wdct, dtype: float64"
      ]
     },
     "execution_count": 99,
     "metadata": {},
     "output_type": "execute_result"
    }
   ],
   "source": [
    "df.wdct.describe()"
   ]
  },
  {
   "cell_type": "code",
   "execution_count": 101,
   "metadata": {},
   "outputs": [
    {
     "data": {
      "image/png": "[encoded data removed]",
      "text/plain": [
       "<matplotlib.figure.Figure at 0x1123a0400>"
      ]
     },
     "metadata": {},
     "output_type": "display_data"
    }
   ],
   "source": [
    "plot_histogram(df, 'wdct', 'Wind Direction', 8, 2000) \n",
    "# 8 bins for N, NW, NE, etc. wind directions, since I know it's given in degrees."
   ]
  },
  {
   "cell_type": "code",
   "execution_count": null,
   "metadata": {
    "collapsed": true
   },
   "outputs": [],
   "source": []
  },
  {
   "cell_type": "code",
   "execution_count": null,
   "metadata": {
    "collapsed": true
   },
   "outputs": [],
   "source": []
  },
  {
   "cell_type": "markdown",
   "metadata": {},
   "source": [
    "**Finally, the target variable is temperature, so let's look at its distribution in the data set.**"
   ]
  },
  {
   "cell_type": "code",
   "execution_count": 13,
   "metadata": {},
   "outputs": [
    {
     "data": {
      "text/plain": [
       "count    9.779137e+06\n",
       "mean     2.047423e+01\n",
       "std      7.331125e+00\n",
       "min     -3.800000e+00\n",
       "25%      1.770000e+01\n",
       "50%      2.140000e+01\n",
       "75%      2.490000e+01\n",
       "max      4.490000e+01\n",
       "Name: temp, dtype: float64"
      ]
     },
     "execution_count": 13,
     "metadata": {},
     "output_type": "execute_result"
    }
   ],
   "source": [
    "df.temp.describe()"
   ]
  },
  {
   "cell_type": "code",
   "execution_count": 60,
   "metadata": {},
   "outputs": [
    {
     "data": {
      "image/png": "[encoded data removed]",
      "text/plain": [
       "<matplotlib.figure.Figure at 0x1113164e0>"
      ]
     },
     "metadata": {},
     "output_type": "display_data"
    }
   ],
   "source": [
    "plot_histogram(df, 'temp', 'Temperature', 45, 2000) #45 bins picked because max temperature is 44.9."
   ]
  },
  {
   "cell_type": "code",
   "execution_count": 29,
   "metadata": {},
   "outputs": [
    {
     "data": {
      "text/plain": [
       "count    9.779168e+06\n",
       "mean     1.385991e+02\n",
       "std      1.052018e+02\n",
       "min      0.000000e+00\n",
       "25%      5.600000e+01\n",
       "50%      1.140000e+02\n",
       "75%      2.160000e+02\n",
       "max      3.600000e+02\n",
       "Name: wdct, dtype: float64"
      ]
     },
     "execution_count": 29,
     "metadata": {},
     "output_type": "execute_result"
    }
   ],
   "source": [
    "df.wdct.describe()"
   ]
  },
  {
   "cell_type": "markdown",
   "metadata": {},
   "source": [
    "**Again, we are seeing a lot of zeros in an otherwise normal distribution. The states we are working with are Rio de Janeiro, San Paulo, Menas Gerais, and Espirito Santo. The states which have 0 degrees Celsius are only Rio Grande de Sul, Parana, and Santa Catarina, so we will have to look at the data to check the zeros.**"
   ]
  }
 ],
 "metadata": {
  "kernelspec": {
   "display_name": "Python 3",
   "language": "python",
   "name": "python3"
  },
  "language_info": {
   "codemirror_mode": {
    "name": "ipython",
    "version": 3
   },
   "file_extension": ".py",
   "mimetype": "text/x-python",
   "name": "python",
   "nbconvert_exporter": "python",
   "pygments_lexer": "ipython3",
   "version": "3.6.4"
  }
 },
 "nbformat": 4,
 "nbformat_minor": 2
}
